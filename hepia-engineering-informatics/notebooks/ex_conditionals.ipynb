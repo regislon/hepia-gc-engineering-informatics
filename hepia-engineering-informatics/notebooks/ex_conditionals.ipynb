{
 "cells": [
  {
   "cell_type": "markdown",
   "metadata": {},
   "source": [
    "# Exercice :  Évaluation de la Stabilité d'un Mur de Soutènement\n",
    "\n",
    "Dans cet exercice, vous allez écrire un programme Python qui évalue la stabilité d'un mur de soutènement. Le programme doit demander à l'utilisateur d'entrer les valeurs de plusieurs paramètres et déterminer si le mur est stable ou non, en se basant sur des critères simplifiés."
   ]
  },
  {
   "cell_type": "markdown",
   "metadata": {},
   "source": [
    "Voici un exercice de Python sur les conditions, adapté au domaine du génie civil :\n",
    "\n",
    "### Exercice : Évaluation de la Stabilité d'un Mur de Soutènement\n",
    "\n",
    "Dans cet exercice, vous allez écrire un programme Python qui évalue la stabilité d'un mur de soutènement. Le programme doit demander à l'utilisateur d'entrer les valeurs de plusieurs paramètres et déterminer si le mur est stable ou non, en se basant sur des critères simplifiés.\n",
    "\n",
    "### Objectif :\n",
    "En fonction des paramètres d'entrée, le programme doit calculer le facteur de sécurité contre le glissement et déterminer si le mur est stable ou non.\n",
    "\n",
    "Le programme répondra : *\"Le mur est stable contre le glissement.\"* ou *\"Le mur n'est pas stable contre le glissement.\"*\n",
    "\n",
    "\n",
    "\n",
    "\n",
    "### Paramètres :\n",
    "\n",
    "1. **Hauteur du mur (H)** : en mètres\n",
    "2. **Angle de friction interne du sol (φ)** : en degrés\n",
    "3. **Poids spécifique du sol (γ)** : en kN/m³\n",
    "4. **Angle d'inclinaison du mur (α)** : en degrés\n",
    "5. **Cohésion du sol (c)** : en kN/m²\n",
    "\n",
    "### Critères de stabilité :\n",
    "\n",
    "1. **Facteur de sécurité contre le glissement (FS_glissement)** :\n",
    "   $$\n",
    "   FS_{\\text{glissement}} = \\frac{c \\cdot L + W \\cdot \\tan(\\phi)}{P_h}\n",
    "   $$\n",
    "   - $L$ est la longueur de la base du mur (H)\n",
    "   - $W$ est le poids du mur calculé comme $ \\gamma \\cdot H \\cdot B $ (B est la largeur de la base, supposons 1 m pour simplifier)\n",
    "   - $P_h$ est la force horizontale due à la pression du sol, calculée comme \n",
    "   $$\n",
    "   P_h = \\frac{1}{2} \\cdot \\gamma \\cdot H^2 \\cdot K_a \n",
    "   $$\n",
    "      avec :\n",
    "      $$\n",
    "      K_a = \\tan^2\\left(45^\\circ - \\frac{\\phi}{2}\\right)\n",
    "      $$\n",
    "\n",
    "\n",
    "2. **Critère de stabilité** :\n",
    "   - Si $ FS_{\\text{glissement}} \\geq 1.5 $, le mur est stable contre le glissement.\n",
    "   - Sinon, le mur n'est pas stable.\n",
    "\n",
    "   \n"
   ]
  },
  {
   "cell_type": "markdown",
   "metadata": {},
   "source": [
    "\n",
    "### Instructions\n",
    "\n",
    "1. Demandez à l'utilisateur d'entrer les valeurs des paramètres \\(H\\), \\(φ\\), \\(γ\\), \\(α\\), et \\(c\\).\n",
    "2. Calculez \\( K_a \\).\n",
    "3. Calculez \\( P_h \\).\n",
    "4. Calculez \\( W \\).\n",
    "5. Calculez \\( FS_{\\text{glissement}} \\).\n",
    "6. Affichez un message indiquant si le mur est stable ou non.\n"
   ]
  },
  {
   "cell_type": "code",
   "execution_count": null,
   "metadata": {},
   "outputs": [],
   "source": [
    "# Définition des valeurs H, phi, gamma, alpha et c"
   ]
  },
  {
   "cell_type": "code",
   "execution_count": null,
   "metadata": {},
   "outputs": [],
   "source": [
    "# Calcul de Ka"
   ]
  },
  {
   "cell_type": "code",
   "execution_count": null,
   "metadata": {},
   "outputs": [],
   "source": [
    "# Calcul de Ph"
   ]
  },
  {
   "cell_type": "code",
   "execution_count": null,
   "metadata": {},
   "outputs": [],
   "source": [
    "# Calcul de W"
   ]
  },
  {
   "cell_type": "code",
   "execution_count": null,
   "metadata": {},
   "outputs": [],
   "source": [
    "# Calcul de FS_glissement"
   ]
  },
  {
   "cell_type": "code",
   "execution_count": null,
   "metadata": {},
   "outputs": [],
   "source": [
    "# Vérification de la stabilité"
   ]
  }
 ],
 "metadata": {
  "kernelspec": {
   "display_name": "venv",
   "language": "python",
   "name": "python3"
  },
  "language_info": {
   "codemirror_mode": {
    "name": "ipython",
    "version": 3
   },
   "file_extension": ".py",
   "mimetype": "text/x-python",
   "name": "python",
   "nbconvert_exporter": "python",
   "pygments_lexer": "ipython3",
   "version": "3.12.0"
  }
 },
 "nbformat": 4,
 "nbformat_minor": 2
}
