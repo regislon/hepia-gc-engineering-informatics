{
 "cells": [
  {
   "cell_type": "markdown",
   "metadata": {},
   "source": [
    "# Exercice : Analyse d'une Structure Continue avec Deux Poutres"
   ]
  },
  {
   "cell_type": "markdown",
   "metadata": {},
   "source": [
    "## Introduction\n",
    "\n",
    "Dans cet exercice, vous utiliserez la bibliothèque anastruct pour analyser une structure composée de deux poutres connectées. Vous apprendrez à créer un système de poutres, à ajouter des supports et des charges, et à interpréter les résultats de l'analyse, y compris les forces de réaction, les forces de cisaillement, les moments de flexion et les déplacements.\n",
    "\n",
    "\n",
    "## Objectif\n",
    "\n",
    "- Créer une structure en utilisant anastruct.\n",
    "- Ajouter des supports et des charges à la structure.\n",
    "- Résoudre le système pour obtenir les forces internes et les réactions aux supports.\n",
    "- Visualiser et interpréter les résultats de l'analyse structurelle."
   ]
  },
  {
   "cell_type": "markdown",
   "metadata": {},
   "source": [
    "## Description de la Structure\n",
    "\n",
    "1. **Poutres :**\n",
    "   - **Poutre 1 :**\n",
    "     - Longueur : 4 mètres\n",
    "     - Position : Horizontale, allant de (0, 3) à (4, 3)\n",
    "     - Propriétés : \n",
    "       - Rigidité axiale (EA) : \\(5 \\times 10^9\\) N\n",
    "       - Moment d'inertie (EI) : 4000 Nm²\n",
    "   - **Poutre 2 :**\n",
    "     - Longueur : 5 mètres\n",
    "     - Position : Inclinée, allant de (4, 3) à (5, 0)\n",
    "     - Propriétés : \n",
    "       - Rigidité axiale (EA) : \\(5 \\times 10^9\\) N\n",
    "       - Moment d'inertie (EI) : 8000 Nm²\n",
    "\n",
    "2. **Supports :**\n",
    "   - **Support articulé (hinged) :**\n",
    "     - Position : Nœud à la base de la deuxième poutre, soit au point (5, 0) correspondant au `node_id=3`\n",
    "   - **Support encastré (fixed) :**\n",
    "     - Position : Nœud de départ de la première poutre, soit au point (0, 3) correspondant au `node_id=1`\n",
    "\n",
    "3. **Charges :**\n",
    "   - **Charge uniformément répartie :**\n",
    "     - Magnitude : -10 kN/m\n",
    "     - Position : Sur la première poutre (élément ID 1)\n",
    "\n"
   ]
  },
  {
   "cell_type": "markdown",
   "metadata": {},
   "source": [
    "\n",
    "## Résultats attendus\n",
    "\n",
    "1. **Schéma des Forces de Réaction :**\n",
    "   - Afficher les forces de réaction aux supports, montrant comment les charges appliquées sont équilibrées par les réactions des supports.\n",
    "\n",
    "2. **Schéma des Forces de Cisaillement :**\n",
    "   - Afficher les forces de cisaillement le long des poutres, montrant les variations de ces forces le long de la structure.\n",
    "\n",
    "3. **Schéma des Moments de Flexion :**\n",
    "   - Afficher les moments de flexion le long des poutres, montrant les points de moment maximum et minimum.\n",
    "\n",
    "4. **Schéma des Déplacements :**\n",
    "   - Afficher les déplacements des nœuds de la structure, montrant comment la structure se déforme sous les charges appliquées.\n"
   ]
  },
  {
   "cell_type": "markdown",
   "metadata": {},
   "source": [
    "## Références\n",
    "\n",
    "Pour la réalisation de ces exercices, il est fort probable que vous deviez potasser un peu la documentation d'anastruct.\n",
    "\n",
    "https://anastruct.readthedocs.io/en/latest/loads.html#element-loads"
   ]
  },
  {
   "cell_type": "markdown",
   "metadata": {},
   "source": [
    "## Exercice\n"
   ]
  },
  {
   "cell_type": "markdown",
   "metadata": {},
   "source": [
    "Chargement des bibliothèques nécessaires et création de l'objet `anastruct`  :"
   ]
  },
  {
   "cell_type": "code",
   "execution_count": null,
   "metadata": {},
   "outputs": [],
   "source": []
  },
  {
   "cell_type": "markdown",
   "metadata": {},
   "source": [
    "Création de la structure :"
   ]
  },
  {
   "cell_type": "code",
   "execution_count": null,
   "metadata": {},
   "outputs": [],
   "source": [
    "\n"
   ]
  },
  {
   "cell_type": "markdown",
   "metadata": {},
   "source": [
    "Ajout des élément de support :"
   ]
  },
  {
   "cell_type": "code",
   "execution_count": null,
   "metadata": {},
   "outputs": [],
   "source": []
  },
  {
   "cell_type": "markdown",
   "metadata": {},
   "source": [
    "Ajout des charges uniformes :"
   ]
  },
  {
   "cell_type": "code",
   "execution_count": null,
   "metadata": {},
   "outputs": [],
   "source": [
    "\n"
   ]
  },
  {
   "cell_type": "markdown",
   "metadata": {},
   "source": [
    "Ajout des force de réaction :"
   ]
  },
  {
   "cell_type": "code",
   "execution_count": null,
   "metadata": {},
   "outputs": [],
   "source": []
  },
  {
   "cell_type": "markdown",
   "metadata": {},
   "source": [
    "Afficher la force de cisaillement :"
   ]
  },
  {
   "cell_type": "code",
   "execution_count": null,
   "metadata": {},
   "outputs": [],
   "source": []
  },
  {
   "cell_type": "markdown",
   "metadata": {},
   "source": [
    "Afficher les moments de flexion :"
   ]
  },
  {
   "cell_type": "code",
   "execution_count": null,
   "metadata": {},
   "outputs": [],
   "source": []
  },
  {
   "cell_type": "markdown",
   "metadata": {},
   "source": [
    "Afficher les déplacements : "
   ]
  },
  {
   "cell_type": "code",
   "execution_count": null,
   "metadata": {},
   "outputs": [],
   "source": []
  },
  {
   "cell_type": "markdown",
   "metadata": {},
   "source": [
    "## Question bonus\n",
    "\n",
    "Pour chauque pour, exporter les paramètres suiavnts and un dataframe pandas, puis savegarder le dataframe dans un fichier csv.\n",
    "\n",
    "- **id** : Identifiant unique de l'élément dans le système.\n",
    "- **length** : Longueur de l'élément.\n",
    "- **alpha** : Angle d'inclinaison de l'élément par rapport à l'horizontale.\n",
    "- **umax** : Déplacement maximal longitudinal (u) le long de l'axe de l'élément.\n",
    "- **umin** : Déplacement minimal longitudinal (u) le long de l'axe de l'élément.\n",
    "- **u** : Tableau des déplacements longitudinaux (u) le long de l'élément.\n",
    "- **wmax** : Déplacement transversal maximal (w) perpendiculaire à l'axe de l'élément.\n",
    "- **wmin** : Déplacement transversal minimal (w) perpendiculaire à l'axe de l'élément.\n",
    "- **w** : Tableau des déplacements transversaux (w) le long de l'élément.\n",
    "- **Mmin** : Moment fléchissant minimal le long de l'élément.\n",
    "- **Mmax** : Moment fléchissant maximal le long de l'élément.\n",
    "- **M** : Tableau des moments fléchissants le long de l'élément.\n",
    "- **Qmin** : Force de cisaillement minimale le long de l'élément.\n",
    "- **Qmax** : Force de cisaillement maximale le long de l'élément.\n",
    "- **Q** : Tableau des forces de cisaillement le long de l'élément.\n",
    "- **Nmin** : Force normale minimale le long de l'élément.\n",
    "- **Nmax** : Force normale maximale le long de l'élément.\n",
    "- **N** : Tableau des forces normales le long de l'élément.\n",
    "- **q** : Charge répartie le long de l'élément (début, fin).\n",
    "\n"
   ]
  },
  {
   "cell_type": "code",
   "execution_count": null,
   "metadata": {},
   "outputs": [],
   "source": [
    "\n"
   ]
  },
  {
   "cell_type": "code",
   "execution_count": null,
   "metadata": {},
   "outputs": [],
   "source": [
    "\n",
    "\n",
    "df"
   ]
  },
  {
   "cell_type": "code",
   "execution_count": null,
   "metadata": {},
   "outputs": [],
   "source": []
  }
 ],
 "metadata": {
  "kernelspec": {
   "display_name": "venv",
   "language": "python",
   "name": "python3"
  },
  "language_info": {
   "codemirror_mode": {
    "name": "ipython",
    "version": 3
   },
   "file_extension": ".py",
   "mimetype": "text/x-python",
   "name": "python",
   "nbconvert_exporter": "python",
   "pygments_lexer": "ipython3",
   "version": "3.12.0"
  }
 },
 "nbformat": 4,
 "nbformat_minor": 2
}
