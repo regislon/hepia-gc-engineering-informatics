{
 "cells": [
  {
   "cell_type": "markdown",
   "id": "629f256d",
   "metadata": {},
   "source": [
    "# Introduction\n",
    "\n",
    "Nous commençons par l'assignation aux variables et les opérations mathématiques familières.\n",
    "\n",
    "## Objectifs\n",
    "\n",
    "- Introduire les expressions et les opérateurs de base\n",
    "- Introduire la priorité des opérateurs\n",
    "- Comprendre les variables et l'assignation"
   ]
  },
  {
   "cell_type": "markdown",
   "id": "b8780eaa",
   "metadata": {},
   "source": [
    "# Évaluation des expressions : opérateurs simples\n",
    "\n",
    "Nous pouvons utiliser Python comme une calculatrice. Considérons l'expression simple $3 + 8$. Nous pouvons évaluer et afficher cela par :"
   ]
  },
  {
   "cell_type": "code",
   "execution_count": 1,
   "id": "588f13e4",
   "metadata": {},
   "outputs": [
    {
     "data": {
      "text/plain": [
       "11"
      ]
     },
     "execution_count": 1,
     "metadata": {},
     "output_type": "execute_result"
    }
   ],
   "source": [
    "3 + 8"
   ]
  },
  {
   "cell_type": "markdown",
   "id": "2d5fb748",
   "metadata": {},
   "source": [
    "Un autre calcul simple est le l'énergie potentielle $V$ d'un corps de masse $E$ (masse ponctuelle) à une distance $r$ d'un corps de masse $M$, donné par\n",
    "\n",
    "$$\n",
    "E = \\frac{G M m}{r}\n",
    "$$\n",
    "\n",
    "où $G$ est la *constante gravitationnelle*. Une bonne approximation est $G = 6.674 \\times 10^{-11} N m^{2} kg^{-2}$.\n",
    "\n",
    "Pour le cas $M = 1.65 \\times 10^{12}$ kg, $m = 6.1 \\times 10^2$ kg et $r = 7.0 \\times 10^3$ m, nous pouvons calculer l'énergie potentielle gravitationnel $V$ :"
   ]
  },
  {
   "cell_type": "code",
   "execution_count": 2,
   "id": "98b1451d",
   "metadata": {},
   "outputs": [
    {
     "data": {
      "text/plain": [
       "9.59625857142857"
      ]
     },
     "execution_count": 2,
     "metadata": {},
     "output_type": "execute_result"
    }
   ],
   "source": [
    "6.674e-11*1.65e12*6.1e2/7.0e3"
   ]
  },
  {
   "cell_type": "markdown",
   "id": "60000f8e",
   "metadata": {},
   "source": [
    "Nous avons utilisé la 'notation scientifique' pour entrer les valeurs. Par exemple, le nombre $8 \\times 10^{-2}$ peut être entré comme `0.08` ou `8e-2`. Nous pouvons facilement vérifier que les deux sont les mêmes par soustraction :"
   ]
  },
  {
   "cell_type": "code",
   "execution_count": 3,
   "id": "db2d0ab9",
   "metadata": {},
   "outputs": [
    {
     "data": {
      "text/plain": [
       "0.0"
      ]
     },
     "execution_count": 3,
     "metadata": {},
     "output_type": "execute_result"
    }
   ],
   "source": [
    "0.08 - 8e-2"
   ]
  },
  {
   "cell_type": "markdown",
   "id": "7877f466",
   "metadata": {},
   "source": [
    "Nous pouvons définir des variables pour rendre les calculs plus clairs. Considérons les variables `M`, `m`, `r`, et `G` :"
   ]
  },
  {
   "cell_type": "code",
   "execution_count": 4,
   "id": "c0876229",
   "metadata": {},
   "outputs": [
    {
     "data": {
      "text/plain": [
       "9.59625857142857"
      ]
     },
     "execution_count": 4,
     "metadata": {},
     "output_type": "execute_result"
    }
   ],
   "source": [
    "M = 1.65e12\n",
    "m = 6.1e2\n",
    "r = 7.0e3\n",
    "G = 6.674e-11\n",
    "V = G*M*m/r\n",
    "V"
   ]
  },
  {
   "cell_type": "markdown",
   "id": "79219d8b",
   "metadata": {},
   "source": [
    "## Opérateurs arithmétiques\n",
    "\n",
    "Les opérateurs arithmétiques de base en Python sont `+`, `-`, `*`, `/` et `**` (exponentiation). Par exemple :"
   ]
  },
  {
   "cell_type": "code",
   "execution_count": 5,
   "id": "dacc2f38",
   "metadata": {},
   "outputs": [],
   "source": [
    "a = 5\n",
    "b = 2\n",
    "c = a + b\n",
    "d = a - b\n",
    "e = a * b\n",
    "f = a / b\n",
    "g = a ** b"
   ]
  },
  {
   "cell_type": "markdown",
   "id": "2b24e96b",
   "metadata": {},
   "source": [
    "## Priorité des opérateurs\n",
    "\n",
    "La priorité des opérateurs en Python suit les règles mathématiques standards. Par exemple, dans l'expression suivante, la multiplication est effectuée avant l'addition :"
   ]
  },
  {
   "cell_type": "code",
   "execution_count": 6,
   "id": "217cdf6d",
   "metadata": {},
   "outputs": [],
   "source": [
    "result = 3 + 4 * 2"
   ]
  },
  {
   "cell_type": "markdown",
   "id": "45a3b536",
   "metadata": {},
   "source": [
    "Pour changer l'ordre des opérations, utilisez des parenthèses :"
   ]
  },
  {
   "cell_type": "code",
   "execution_count": 7,
   "id": "602d3c22",
   "metadata": {},
   "outputs": [],
   "source": [
    "result = (3 + 4) * 2"
   ]
  },
  {
   "cell_type": "markdown",
   "id": "c2896bf6",
   "metadata": {},
   "source": [
    "## Variables et assignation\n",
    "\n",
    "Les variables en Python sont créées en utilisant l'opérateur `=` pour assigner des valeurs. Par exemple :"
   ]
  },
  {
   "cell_type": "code",
   "execution_count": 8,
   "id": "fce95419",
   "metadata": {},
   "outputs": [],
   "source": [
    "x = 10\n",
    "y = 5\n",
    "z = x + y"
   ]
  }
 ],
 "metadata": {
  "kernelspec": {
   "display_name": "venv",
   "language": "python",
   "name": "python3"
  },
  "language_info": {
   "codemirror_mode": {
    "name": "ipython",
    "version": 3
   },
   "file_extension": ".py",
   "mimetype": "text/x-python",
   "name": "python",
   "nbconvert_exporter": "python",
   "pygments_lexer": "ipython3",
   "version": "3.12.0"
  }
 },
 "nbformat": 4,
 "nbformat_minor": 5
}
