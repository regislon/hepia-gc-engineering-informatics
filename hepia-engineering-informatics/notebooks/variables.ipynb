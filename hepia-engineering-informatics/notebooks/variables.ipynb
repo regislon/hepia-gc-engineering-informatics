{
 "cells": [
  {
   "cell_type": "markdown",
   "metadata": {},
   "source": [
    "## Programmation informatique avec Python \n",
    "\n",
    "---"
   ]
  },
  {
   "cell_type": "markdown",
   "metadata": {},
   "source": [
    "## VARIABLES\n",
    "\n",
    "Une variable est un nom utilisé pour désigner un emplacement mémoire. Une variable en Python est également connue sous le nom d'identifiant et est utilisée pour contenir une valeur.\n",
    "\n",
    "* Les variables sont des exemples d'identifiants.\n",
    "\n",
    "* Les variables peuvent être utilisées pour stocker des données de différents types tels que des entiers, des nombres à virgule flottante, des chaînes, des listes, des dictionnaires, etc.\n",
    "\n",
    "#### Pour définir des variables :\n",
    "\n",
    "L'opérateur égal (=) est utilisé pour attribuer une valeur à une variable.\n",
    "\n",
    "*nom_de_variable = expression (donnée)*\n",
    "\n",
    "#### Pour afficher des variables à l'écran :\n",
    "*print(nom_de_variable)*\n",
    "\n",
    "ou\n",
    "\n",
    "*nom_de_variable*   -----> # Seulement dans Jupiter\n",
    "\n",
    "#### Pour afficher plusieurs variables à l'écran :\n",
    "\n",
    "*print(nom_de_variable1, nom_de_variable2, nom_de_variable3, ...)*\n",
    "\n",
    "ou\n",
    "\n",
    "*nom_de_variable1, nom_de_variable2, nom_de_variable3, ...*   -----> # Seulement dans Jupiter\n"
   ]
  },
  {
   "cell_type": "markdown",
   "metadata": {},
   "source": [
    "**_Créer une variable avec un entier:_**\n",
    "\n",
    "![](./Figures/variables1.png)\n",
    "\n",
    "\n",
    "Le code suivant déclare une variable _a_ et lui attribue la valeur 50. "
   ]
  },
  {
   "cell_type": "code",
   "execution_count": 1,
   "metadata": {},
   "outputs": [
    {
     "name": "stdout",
     "output_type": "stream",
     "text": [
      "50\n"
     ]
    }
   ],
   "source": [
    "a = 50\n",
    "print(a)"
   ]
  },
  {
   "cell_type": "markdown",
   "metadata": {},
   "source": [
    "**_Créer une variable avec une chaîne de caractères:_**"
   ]
  },
  {
   "cell_type": "code",
   "execution_count": 2,
   "metadata": {},
   "outputs": [
    {
     "name": "stdout",
     "output_type": "stream",
     "text": [
      "hepia\n"
     ]
    }
   ],
   "source": [
    "var = \"hepia\"\n",
    "print(var)"
   ]
  },
  {
   "cell_type": "markdown",
   "metadata": {},
   "source": [
    "**_Variables ayant la même valeur:_**\n",
    "\n",
    "![](./Figures/variables2.png)"
   ]
  },
  {
   "cell_type": "code",
   "execution_count": 3,
   "metadata": {},
   "outputs": [
    {
     "name": "stdout",
     "output_type": "stream",
     "text": [
      "50\n",
      "50\n"
     ]
    }
   ],
   "source": [
    "a = 50\n",
    "b = 50\n",
    "print(a)\n",
    "print(b)"
   ]
  },
  {
   "cell_type": "markdown",
   "metadata": {},
   "source": [
    "**_Variables ayant des valeurs différentes:_**\n",
    "\n",
    "![](./Figures/variables3.png)"
   ]
  },
  {
   "cell_type": "code",
   "execution_count": 4,
   "metadata": {},
   "outputs": [
    {
     "name": "stdout",
     "output_type": "stream",
     "text": [
      "150\n"
     ]
    }
   ],
   "source": [
    "a = 50\n",
    "b = 100\n",
    "c = a + b\n",
    "print(c)"
   ]
  },
  {
   "cell_type": "markdown",
   "metadata": {},
   "source": [
    "--- \n",
    "## Identité des objets\n",
    "\n",
    "En Python, chaque objet créé est identifié de manière unique. Python garantit qu'aucun deux objets n'auront le même identifiant.\n",
    "\n",
    "La fonction intégrée **id()** est utilisée pour identifier l'identifiant de l'objet."
   ]
  },
  {
   "cell_type": "code",
   "execution_count": 5,
   "metadata": {},
   "outputs": [
    {
     "name": "stdout",
     "output_type": "stream",
     "text": [
      "4321874944\n"
     ]
    }
   ],
   "source": [
    "print(id(a))"
   ]
  },
  {
   "cell_type": "code",
   "execution_count": 6,
   "metadata": {},
   "outputs": [
    {
     "name": "stdout",
     "output_type": "stream",
     "text": [
      "4321878144\n"
     ]
    }
   ],
   "source": [
    "print(id(c))"
   ]
  },
  {
   "cell_type": "markdown",
   "metadata": {},
   "source": [
    "## Assignation multiple\n",
    "Python nous permet d'assigner une valeur à plusieurs variables en une seule instruction, ce qui est également connu sous le nom d'assignation multiple.\n",
    "\n",
    "Nous pouvons appliquer des assignations multiples de deux manières, soit en assignant une seule valeur à plusieurs variables, soit en assignant plusieurs valeurs à plusieurs variables. Considérez l'exemple suivant.\n",
    "\n",
    "**Assignation d'une seule valeur à plusieurs variables:**"
   ]
  },
  {
   "cell_type": "code",
   "execution_count": 7,
   "metadata": {},
   "outputs": [
    {
     "name": "stdout",
     "output_type": "stream",
     "text": [
      "50 50 50\n"
     ]
    }
   ],
   "source": [
    "x = 50\n",
    "y = 50\n",
    "z = 50\n",
    "print(x, y, z)"
   ]
  },
  {
   "cell_type": "code",
   "execution_count": 8,
   "metadata": {},
   "outputs": [
    {
     "name": "stdout",
     "output_type": "stream",
     "text": [
      "50 50 50\n"
     ]
    }
   ],
   "source": [
    "x = y = z = 50\n",
    "print(x, y, z)"
   ]
  },
  {
   "cell_type": "markdown",
   "metadata": {},
   "source": [
    "**Assignation de plusieurs valeurs à plusieurs variables :**"
   ]
  },
  {
   "cell_type": "code",
   "execution_count": 9,
   "metadata": {},
   "outputs": [
    {
     "name": "stdout",
     "output_type": "stream",
     "text": [
      "50 60 80\n"
     ]
    }
   ],
   "source": [
    "x = 50\n",
    "y = 60\n",
    "z = 80\n",
    "print(x, y, z)"
   ]
  },
  {
   "cell_type": "code",
   "execution_count": 10,
   "metadata": {},
   "outputs": [
    {
     "name": "stdout",
     "output_type": "stream",
     "text": [
      "50 60 80\n"
     ]
    }
   ],
   "source": [
    "x, y, z = 50, 60, 80\n",
    "print(x, y, z)"
   ]
  },
  {
   "cell_type": "markdown",
   "metadata": {},
   "source": [
    "---\n",
    "\n",
    "## Nommage des variables\n",
    "Les noms de variables peuvent être un groupe de lettres et de chiffres. Les règles pour nommer un identifiant sont les suivantes :\n",
    "\n",
    "- Le premier caractère de la variable doit être une lettre ou un underscore (_).\n",
    "\n",
    "- Tous les caractères sauf le premier peuvent être une lettre en minuscules (a-z), en majuscules (A-Z), un underscore ou un chiffre (0-9).\n",
    "\n",
    "- Le nom de l'identifiant ne doit pas contenir d'espaces blancs ou de caractères spéciaux (!, @, #, %, ^, &, *).\n",
    "\n",
    "- Le nom de l'identifiant ne doit pas être similaire à un mot-clé défini dans le langage.\n",
    "\n",
    "- Les noms des identifiants sont sensibles à la casse ; par exemple, **monNom** et **MonNom** ne sont pas les mêmes.\n",
    "\n",
    "- Je suggère de ne pas utiliser de lettres françaises uniques : **é à è ü ...**\n"
   ]
  },
  {
   "cell_type": "markdown",
   "metadata": {},
   "source": [
    "**_Exemples d'identifiants invalides :_**"
   ]
  },
  {
   "cell_type": "code",
   "execution_count": 11,
   "metadata": {},
   "outputs": [
    {
     "ename": "SyntaxError",
     "evalue": "invalid decimal literal (524868900.py, line 1)",
     "output_type": "error",
     "traceback": [
      "\u001b[0;36m  Cell \u001b[0;32mIn[11], line 1\u001b[0;36m\u001b[0m\n\u001b[0;31m    8no = 87\u001b[0m\n\u001b[0m    ^\u001b[0m\n\u001b[0;31mSyntaxError\u001b[0m\u001b[0;31m:\u001b[0m invalid decimal literal\n"
     ]
    }
   ],
   "source": [
    "8no = 87"
   ]
  },
  {
   "cell_type": "code",
   "execution_count": null,
   "metadata": {},
   "outputs": [
    {
     "ename": "SyntaxError",
     "evalue": "cannot assign to expression here. Maybe you meant '==' instead of '='? (3519354837.py, line 1)",
     "output_type": "error",
     "traceback": [
      "\u001b[0;36m  Cell \u001b[0;32mIn[6], line 1\u001b[0;36m\u001b[0m\n\u001b[0;31m    k@l = \"Sau\"\u001b[0m\n\u001b[0m    ^\u001b[0m\n\u001b[0;31mSyntaxError\u001b[0m\u001b[0;31m:\u001b[0m cannot assign to expression here. Maybe you meant '==' instead of '='?\n"
     ]
    }
   ],
   "source": [
    "k@l = \"Sau\""
   ]
  },
  {
   "cell_type": "code",
   "execution_count": null,
   "metadata": {},
   "outputs": [
    {
     "ename": "SyntaxError",
     "evalue": "invalid syntax (784693347.py, line 1)",
     "output_type": "error",
     "traceback": [
      "\u001b[0;36m  Cell \u001b[0;32mIn[7], line 1\u001b[0;36m\u001b[0m\n\u001b[0;31m    Jean claude = \"dus\"\u001b[0m\n\u001b[0m         ^\u001b[0m\n\u001b[0;31mSyntaxError\u001b[0m\u001b[0;31m:\u001b[0m invalid syntax\n"
     ]
    }
   ],
   "source": [
    "Jean claude = \"dus\""
   ]
  },
  {
   "cell_type": "markdown",
   "metadata": {},
   "source": [
    "**_Les noms d'identifiants sont sensibles à la casse :_**"
   ]
  },
  {
   "cell_type": "code",
   "execution_count": null,
   "metadata": {},
   "outputs": [
    {
     "name": "stdout",
     "output_type": "stream",
     "text": [
      "jean claude Dus\n"
     ]
    }
   ],
   "source": [
    "ad  = \"jean claude\"\n",
    "Ad = \"Dus\"\n",
    "print(ad, Ad)"
   ]
  },
  {
   "cell_type": "markdown",
   "metadata": {},
   "source": [
    "---\n",
    "## whos \n",
    "\n",
    "une fonction listant les objets"
   ]
  },
  {
   "cell_type": "code",
   "execution_count": null,
   "metadata": {},
   "outputs": [
    {
     "name": "stdout",
     "output_type": "stream",
     "text": [
      "Variable   Type    Data/Info\n",
      "----------------------------\n",
      "Ad         str     Dus\n",
      "a          int     50\n",
      "ad         str     jean claude\n",
      "b          int     100\n",
      "c          int     150\n"
     ]
    }
   ],
   "source": [
    "%whos"
   ]
  },
  {
   "cell_type": "markdown",
   "metadata": {},
   "source": [
    "---"
   ]
  },
  {
   "cell_type": "markdown",
   "metadata": {},
   "source": [
    "# Les types de données en Python"
   ]
  },
  {
   "cell_type": "markdown",
   "metadata": {},
   "source": [
    "Vous constatez que dans le tableau ci-dessus, il y a une colonne **Type**. Cela signifie que chaque variable a un type de données. Nous aborderons les types de données en Python dans la prochaine section, mais sachez que chaque variable en Python a un type de données."
   ]
  },
  {
   "cell_type": "markdown",
   "metadata": {},
   "source": [
    "Pour vérifier le type d'une variable utilisée dans un programme, Python fournit la fonction type(). Cette fonction renvoie le type de la variable qui lui est passée.\n",
    "\n",
    "😱 Une fonction ? Ne t'inquiète pas, nous allons te l'expliquer en détail dans la suite du cours."
   ]
  },
  {
   "cell_type": "code",
   "execution_count": 12,
   "metadata": {},
   "outputs": [
    {
     "name": "stdout",
     "output_type": "stream",
     "text": [
      "<class 'int'>\n"
     ]
    }
   ],
   "source": [
    "print(type(a))"
   ]
  },
  {
   "cell_type": "code",
   "execution_count": 13,
   "metadata": {},
   "outputs": [
    {
     "name": "stdout",
     "output_type": "stream",
     "text": [
      "<class 'str'>\n"
     ]
    }
   ],
   "source": [
    "print(type(var))"
   ]
  },
  {
   "cell_type": "code",
   "execution_count": null,
   "metadata": {},
   "outputs": [],
   "source": []
  }
 ],
 "metadata": {
  "hide_input": false,
  "kernelspec": {
   "display_name": "Python 3 (ipykernel)",
   "language": "python",
   "name": "python3"
  },
  "language_info": {
   "codemirror_mode": {
    "name": "ipython",
    "version": 3
   },
   "file_extension": ".py",
   "mimetype": "text/x-python",
   "name": "python",
   "nbconvert_exporter": "python",
   "pygments_lexer": "ipython3",
   "version": "3.12.0"
  },
  "varInspector": {
   "cols": {
    "lenName": 16,
    "lenType": 16,
    "lenVar": 40
   },
   "kernels_config": {
    "python": {
     "delete_cmd_postfix": "",
     "delete_cmd_prefix": "del ",
     "library": "var_list.py",
     "varRefreshCmd": "print(var_dic_list())"
    },
    "r": {
     "delete_cmd_postfix": ") ",
     "delete_cmd_prefix": "rm(",
     "library": "var_list.r",
     "varRefreshCmd": "cat(var_dic_list()) "
    }
   },
   "types_to_exclude": [
    "module",
    "function",
    "builtin_function_or_method",
    "instance",
    "_Feature"
   ],
   "window_display": false
  }
 },
 "nbformat": 4,
 "nbformat_minor": 4
}
