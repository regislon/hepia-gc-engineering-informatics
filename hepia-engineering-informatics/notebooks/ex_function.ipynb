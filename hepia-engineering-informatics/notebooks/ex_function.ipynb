{
 "cells": [
  {
   "cell_type": "markdown",
   "metadata": {},
   "source": [
    "# Les fonctions"
   ]
  },
  {
   "cell_type": "markdown",
   "metadata": {},
   "source": [
    "Dans cet exercice, nous allons créer une fonction pour calculer le débit d'eau Q à travers un tuyau partiellement rempli (canal ouvert), comme un collecteur d'eau pluviale d'une ville. Les paramètres de la fonction sont le diamètre du tuyau D, la profondeur de l'eau d, la pente S et la rugosité du tuyau nn. Si d=D, alors le tuyau est plein. Cela s'appelle un tuyau sous pression, comme les conduites de distribution d'eau potable, et les équations sont les mêmes.\n",
    "\n",
    "\n",
    "<img src=\"./Figures/open-channel-flow.png\" align=\"left\"/>\n"
   ]
  },
  {
   "cell_type": "code",
   "execution_count": 5,
   "metadata": {},
   "outputs": [
    {
     "name": "stdout",
     "output_type": "stream",
     "text": [
      "Le débit est de 0.073 m³/s\n"
     ]
    }
   ],
   "source": [
    "import numpy as np\n",
    "\n",
    "# Exemple de procédure que nous aimerions transformer en fonction.\n",
    "D = 0.91  # Diamètre en mètres (36 pouces)\n",
    "d = 0.20  # Profondeur en mètres (8 pouces)\n",
    "S = 0.005  # Pente du tuyau (m/m)\n",
    "n = 0.025  # Coefficient de rugosité de Mannin\n",
    "\n",
    "r = D / 2\n",
    "theta = 2 * np.arccos((r - d) / r)\n",
    "A = ((r**2) * (theta - np.sin(theta))) / 2\n",
    "P = theta * r\n",
    "Rh = A / P\n",
    "v = (1 / n) * Rh**(2/3) * S**0.5\n",
    "Q = v * A\n",
    "\n",
    "print(\"Le débit est de\", round(Q, 3), \"m³/s\")"
   ]
  },
  {
   "cell_type": "markdown",
   "metadata": {},
   "source": [
    "Maintenant, ce code sera utilisé dans de nombreux endroits dans un programme informatique. Nous souhaitons créer une fonction afin de pouvoir facilement l'appeler à partir de n'importe quel endroit dans le programme. Cela rend le code plus lisible et plus facile à déboguer.\n",
    "\n",
    "Etape 1 : Tester et retester pour s'assurer que les résultats sont corrects\n",
    "\n",
    "Étape 2 : Décider quelles variables doivent être des paramètres (arguments)\n",
    "\n",
    "Étape 3 : Indenter le code et ajouter la ligne def (nom de la fonction et paramètres)\n",
    "\n",
    "Étape 4 : Déterminer la ou les valeurs de retour\n",
    "\n",
    "Étape 5 : Décider si des paramètres doivent avoir des valeurs par défaut (doivent être à la fin de la ligne def)\n",
    "\n",
    "Étape 6 : Écrire une simple docstring qui est une phrase descriptive\n",
    "\n",
    "Étape 7 : Ecrire une docstring plus élaborée avec Args: et Returns: et ajouter d'autres commentaires\n",
    "\n",
    "Étape 8 : Changer les noms des paramètres pour qu'ils soient descriptifs et réattribuer leurs valeurs dans la fonction\n",
    "\n",
    "\n",
    "Suit les différentes étapes mentionné précédemment pour créer une nouvelle fonction `open_channel_flow` qui prend en paramètre le diamètre du tuyau `D`, la profondeur de l'eau `d`, la pente `S` et la rugosité du tuyau `nn` et retourne le débit d'eau `Q` à travers le tuyau."
   ]
  }
 ],
 "metadata": {
  "kernelspec": {
   "display_name": "venv",
   "language": "python",
   "name": "python3"
  },
  "language_info": {
   "codemirror_mode": {
    "name": "ipython",
    "version": 3
   },
   "file_extension": ".py",
   "mimetype": "text/x-python",
   "name": "python",
   "nbconvert_exporter": "python",
   "pygments_lexer": "ipython3",
   "version": "3.12.0"
  }
 },
 "nbformat": 4,
 "nbformat_minor": 2
}
