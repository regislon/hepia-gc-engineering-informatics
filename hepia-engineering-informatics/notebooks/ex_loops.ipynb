{
 "cells": [
  {
   "cell_type": "markdown",
   "metadata": {},
   "source": [
    "## Introduction\n",
    "\n",
    "Dans cet exercice, vous allez utiliser des boucles pour calculer la charge totale appliquée sur une poutre en utilisant des données stockées dans des listes et des dictionnaires. Vous allez également calculer le moment de flexion maximal en un point donné de la poutre."
   ]
  },
  {
   "cell_type": "markdown",
   "metadata": {},
   "source": [
    "Une poutre est soumise à plusieurs charges ponctuelles et réparties. Les charges ponctuelles sont appliquées à des points spécifiques de la poutre, tandis que les charges réparties sont appliquées sur des segments de la poutre. Vous devez écrire un programme Python pour calculer la charge totale sur la poutre et déterminer le moment de flexion maximal."
   ]
  },
  {
   "cell_type": "markdown",
   "metadata": {},
   "source": [
    "### Étape 1 : Définir les Charges Ponctuelles\n",
    "\n",
    "Créez un dictionnaire point_loads où les clés sont les positions (en mètres) le long de la poutre et les valeurs sont les forces (en kiloNewtons) appliquées à ces positions.\n",
    "\n",
    "Les charges ponctuelles sont définies comme suit :\n",
    "\n",
    "    À 2 mètres : 5 kN\n",
    "    À 5 mètres : 10 kN\n",
    "    À 8 mètres : 15 kN"
   ]
  },
  {
   "cell_type": "code",
   "execution_count": null,
   "metadata": {},
   "outputs": [],
   "source": [
    "# Charges ponctuelles (position en mètres : force en kN)\n"
   ]
  },
  {
   "cell_type": "markdown",
   "metadata": {},
   "source": [
    "### Étape 2 : Définir les Charges Réparties\n",
    "\n",
    "Créez une liste distributed_loads où chaque élément est un dictionnaire contenant le début (start), la fin (end) du segment et la force par unité de longueur (force_per_meter, en kiloNewtons par mètre).\n",
    "\n",
    "Voici la traduction en texte de la liste distributed_loads :\n",
    "\n",
    "Les charges réparties sont définies comme suit :\n",
    "\n",
    "    De 0 à 3 mètres : 2 kN par mètre\n",
    "    De 4 à 6 mètres : 3 kN par mètre\n",
    "    De 7 à 10 mètres : 1.5 kN par mètre"
   ]
  },
  {
   "cell_type": "code",
   "execution_count": null,
   "metadata": {},
   "outputs": [],
   "source": [
    "# Charges réparties (chaque élément est un dictionnaire avec début, fin, et force par mètre)\n"
   ]
  },
  {
   "cell_type": "markdown",
   "metadata": {},
   "source": [
    "### Étape 3 : Initialiser la Longueur de la Poutre\n",
    "\n",
    "Définissez la variable beam_length pour représenter la longueur totale de la poutre."
   ]
  },
  {
   "cell_type": "code",
   "execution_count": null,
   "metadata": {},
   "outputs": [],
   "source": [
    "# Longueur totale de la poutre\n"
   ]
  },
  {
   "cell_type": "markdown",
   "metadata": {},
   "source": [
    "### Étape 4 : Calculer la Charge Totale\n",
    "\n",
    "Utilisez une boucle pour parcourir les charges ponctuelles et les ajouter à une variable total_load. Ensuite, utilisez une autre boucle pour parcourir les charges réparties, calculer la charge totale pour chaque segment, et l'ajouter à total_load."
   ]
  },
  {
   "cell_type": "code",
   "execution_count": null,
   "metadata": {},
   "outputs": [],
   "source": [
    "# Calculer la charge totale\n",
    "\n",
    "\n",
    "# Ajouter les charges ponctuelles\n",
    "\n",
    "\n",
    "# Ajouter les charges réparties\n"
   ]
  },
  {
   "cell_type": "markdown",
   "metadata": {},
   "source": [
    "### Étape 5 : Afficher la Charge Totale\n",
    "\n",
    "Affichez la charge totale appliquée sur la poutre."
   ]
  },
  {
   "cell_type": "code",
   "execution_count": null,
   "metadata": {},
   "outputs": [],
   "source": []
  },
  {
   "cell_type": "markdown",
   "metadata": {},
   "source": [
    "### Étape 6 : Calculer le Moment de Flexion Maximal\n",
    "\n",
    "Choisissez une position sur la poutre, par exemple moment_position = 5 mètres. Utilisez des boucles pour parcourir les charges ponctuelles et réparties, et calculez leur contribution au moment de flexion à cette position. Accumulez ces valeurs dans une variable max_bending_moment."
   ]
  },
  {
   "cell_type": "code",
   "execution_count": null,
   "metadata": {},
   "outputs": [],
   "source": [
    "# Calculer le moment de flexion maximal en un point donné (par exemple à 5 mètres)\n",
    "\n",
    "\n",
    "# Calculer le moment dû aux charges ponctuelles\n",
    "\n",
    "\n",
    "# Calculer le moment dû aux charges réparties\n"
   ]
  },
  {
   "cell_type": "markdown",
   "metadata": {},
   "source": [
    "### Étape 7 : Afficher le Moment de Flexion Maximal\n",
    "\n",
    "Affichez le moment de flexion maximal à la position choisie."
   ]
  },
  {
   "cell_type": "code",
   "execution_count": null,
   "metadata": {},
   "outputs": [],
   "source": []
  }
 ],
 "metadata": {
  "kernelspec": {
   "display_name": "venv",
   "language": "python",
   "name": "python3"
  },
  "language_info": {
   "codemirror_mode": {
    "name": "ipython",
    "version": 3
   },
   "file_extension": ".py",
   "mimetype": "text/x-python",
   "name": "python",
   "nbconvert_exporter": "python",
   "pygments_lexer": "ipython3",
   "version": "3.12.0"
  }
 },
 "nbformat": 4,
 "nbformat_minor": 2
}
