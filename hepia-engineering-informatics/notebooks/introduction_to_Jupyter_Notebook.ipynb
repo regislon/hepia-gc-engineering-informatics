{
 "cells": [
  {
   "cell_type": "markdown",
   "metadata": {},
   "source": [
    "# Introduction au Jupyter Notebook\n",
    "---------------------------------------------------"
   ]
  },
  {
   "cell_type": "code",
   "execution_count": null,
   "metadata": {},
   "outputs": [],
   "source": [
    "#Do not change this cell and the next one. They are for setting things up.\n",
    "\n",
    "#make plots inline (instead of as a pop up window)\n",
    "%matplotlib inline\n",
    "\n",
    "#import the preamble in the parent directory\n",
    "import sys\n",
    "sys.path.append(\"../../\")\n",
    "from preamble import *\n",
    "\n",
    "from IPython.display import display, HTML"
   ]
  },
  {
   "cell_type": "markdown",
   "metadata": {},
   "source": [
    "Un Jupyter Notebook est composé de cellules. Il existe deux types de cellules importants :\n",
    "\n",
    "### Les cellules de type Markdown\n",
    "\n",
    "- Les cellules Markdown sont destinées à la documentation.\n",
    "- Elles utilisent le langage simple markdown.\n",
    "- Vous pouvez utiliser Latex pour la saisie des formules mathématiques.\n",
    "\n",
    "Plus d'infos sont données à la fin de ce notebook.\n",
    "\n",
    "\n",
    "✍️ Ajoute ci-dessous une nouvelle cellule de type Markdown et écris-y quelques lignes de texte."
   ]
  },
  {
   "cell_type": "markdown",
   "metadata": {},
   "source": [
    "### Les Cellules de type Code\n",
    "\n",
    "Une cellule \"code\" est l'endroit où le code Python est écrit et exécuté.\n",
    "\n",
    "#### Voici quelques conseils rapides pour commencer à utiliser les cellules du Jupyter Notebook :\n",
    "\n",
    "- Comment éditer une cellule : double-cliquez simplement sur la cellule.\n",
    "\n",
    "- Comment exécuter une cellule (pour rendre une cellule markdown ou exécuter le code python dans une cellule de code) : Shift+Enter pendant que la cellule est sélectionnée et en mode édition. Vous pouvez également utiliser le menu \"Cell\" ou la barre d'outils \"Run\".\n",
    "\n",
    "- Comment ajouter et supprimer des cellules : utilisez le menu \"Edit\" ou les barres d'outils \"insert\" et \"cut\".\n",
    "\n",
    "✍️ Ajoute ci-dessous une nouvelle cellule de type code, écris-y un code Python simple (par exemple, `print(\"Hello World\")`) et exécute la cellule."
   ]
  },
  {
   "cell_type": "markdown",
   "metadata": {},
   "source": [
    "### Qu'y a-t-il dans un notebook Jupyter ?"
   ]
  },
  {
   "cell_type": "markdown",
   "metadata": {},
   "source": [
    "Un notebook Jupyter (par exemple, **test.ipynb**) est simplement un fichier texte qui contient tout le contenu du notebook. Le fichier texte est dans un format appelé [JSON (JavaScript Object Notation)](https://www.json.org). Selon son site web, il s'agit\n",
    ">d'un format léger d'échange de données. Il est facile à lire et à écrire pour les humains. Il est facile à analyser et à générer pour les machines.\n",
    "\n",
    "Si vous êtes curieux de savoir à quoi cela ressemble vraiment, vous pouvez créer puis ouvrir un notebook avec un éditeur de texte de votre choix.\n",
    "\n"
   ]
  },
  {
   "cell_type": "markdown",
   "metadata": {},
   "source": [
    "### Quelques conseils pour l'utilisation de Jupyter Notebook\n",
    "\n",
    "Ces conseils peuvent augmenter votre rapidité et votre confort dans l'utilisation de Jupyter Notebook.\n",
    "\n",
    "- Exécutez une cellule en appuyant sur Shift+Enter. Cela exécutera la cellule actuelle et créera une nouvelle cellule en dessous (ajouter une animation). N'oubliez pas de faire tourner tout le notebook si nécessaire. Par exemple, la cellule actuelle peut dépendre de variables ou de logiques définies dans les cellules précédentes.\n",
    "- Examinez un module avec le point d'interrogation \"?\".\n",
    "- Organisez votre notebook en parties. Ne mettez pas tout votre code dans une seule cellule. C'est une différence fondamentale entre Jupyter Notebook et les Environnements de Développement Intégré Python (IDEs). Cela permet de rendre votre code plus facilement compréhensible par les autres et par vous-même dans le futur. Un inconvénient est que parfois vous pouvez exécuter seulement la cellule actuelle et oublier d'exécuter d'autres parties qui sont pertinentes pour celle-ci."
   ]
  },
  {
   "cell_type": "code",
   "execution_count": null,
   "metadata": {},
   "outputs": [],
   "source": [
    "import os"
   ]
  },
  {
   "cell_type": "code",
   "execution_count": null,
   "metadata": {},
   "outputs": [],
   "source": [
    "os?"
   ]
  },
  {
   "cell_type": "markdown",
   "metadata": {},
   "source": [
    "### Où puis-je exécuter un notebook Jupyter ?\n",
    "\n",
    "Un Jupyter Notebook peut être exécuté dans plusieurs environnements, offrant ainsi une grande flexibilité aux utilisateurs. Il peut être exécuté directement dans le navigateur web via le Jupyter Notebook Server, une solution populaire pour de nombreux utilisateurs. \n",
    "\n",
    "De plus, il est possible d'exécuter des notebooks dans des environnements intégrés de développement (IDE) comme Visual Studio Code (VS Code).  Dans VS Code, l'extension Jupyter permet de créer, d'éditer et d'exécuter des notebooks dans un environnement riche et bien intégré, offrant des fonctionnalités supplémentaires comme le débogage interactif et l'auto-complétion du code. \n",
    "\n",
    "En outre, des plateformes cloud telles que Google Colab et Azure Notebooks permettent d'exécuter des Jupyter Notebooks en ligne, sans nécessiter de configuration locale, facilitant ainsi le partage et la collaboration sur les projets. \n",
    "\n",
    "Par ailleurs, les notebooks peuvent être visualisés sur GitHub, permettant ainsi de partager et de consulter facilement le contenu, bien qu'ils ne puissent pas être exécutés directement sur la plateforme."
   ]
  },
  {
   "cell_type": "markdown",
   "metadata": {},
   "source": [
    "## Formater les cellules de texte\n",
    "\n",
    "Les cellules de texte sont formatées en utilisant *Markdown* et la syntaxe *LaTeX* pour les mathématiques.\n",
    "Utilisez abondamment les cellules de texte pour expliquer ce que fait votre programme et comment il le fait.\n",
    "Utilisez la composition mathématique pour vous exprimer mathématiquement."
   ]
  },
  {
   "cell_type": "markdown",
   "metadata": {},
   "source": [
    "\n",
    "Vous pouvez trouver tous les détails dans la [documentation Markdown de Jupyter](http://jupyter-notebook.readthedocs.io/en/latest/examples/Notebook/Working%20With%20Markdown%20Cells.html).\n",
    "Voici un bref résumé."
   ]
  },
  {
   "cell_type": "markdown",
   "metadata": {},
   "source": [
    "### Titres\n",
    "\n",
    "En utilisant Markdown, les titres sont indiqués par '`#`' :\n",
    "```\n",
    "# Titre de niveau supérieur\n",
    "## Titre de deuxième niveau\n",
    "### Titre de troisième niveau\n",
    "```"
   ]
  },
  {
   "cell_type": "markdown",
   "metadata": {},
   "source": [
    "### Style de texte\n",
    "\n",
    "L'entrée Markdown\n",
    "```\n",
    "Passage d'ouverture\n",
    "\n",
    "`Un passage de texte`\n",
    "\n",
    "*Encore un peu de texte*\n",
    "\n",
    "**Encore plus de texte**\n",
    "```\n",
    "\n",
    "apparaît comme :\n",
    "\n",
    "Passage d'ouverture\n",
    "\n",
    "`Un passage de texte`\n",
    "\n",
    "*Encore un peu de texte*\n",
    "\n",
    "**Encore plus de texte**\n"
   ]
  },
  {
   "cell_type": "markdown",
   "metadata": {},
   "source": [
    "### Listes\n",
    "\n",
    "Vous pouvez créer des listes à puces en utilisant :\n",
    "```\n",
    "- Option A\n",
    "- Option B\n",
    "```\n",
    "pour afficher\n",
    "- Option A\n",
    "- Option B\n",
    "\n",
    "et des listes numérotées en utilisant\n",
    "```\n",
    "1. Ancienne approche\n",
    "1. Nouvelle approche\n",
    "```\n",
    "pour afficher\n",
    "1. Ancienne approche\n",
    "1. Nouvelle approche\n",
    "\n",
    "Markdown résout le numéro de la liste pour vous."
   ]
  },
  {
   "cell_type": "markdown",
   "metadata": {},
   "source": [
    "### Code\n",
    "\n",
    "Le code peut être composé en utilisant :\n",
    "\n",
    "    ```python\n",
    "    def f(x):\n",
    "        return x*x\n",
    "    ```\n",
    "\n",
    "ce qui produit\n",
    "\n",
    "```python\n",
    "def f(x):\n",
    "    return x*x\n",
    "```"
   ]
  },
  {
   "cell_type": "markdown",
   "metadata": {},
   "source": [
    "Vous pouvez inclure des images dans les notebooks Jupyter - voir [documentation Markdown de Jupyter](http://jupyter-notebook.readthedocs.io/en/latest/examples/Notebook/Working%20With%20Markdown%20Cells.html).\n"
   ]
  },
  {
   "cell_type": "markdown",
   "metadata": {},
   "source": [
    "## LaTeX\n",
    "\n",
    "Les cellules Markdown supportent la syntaxe [LaTeX](https://www.latex-project.org/) pour la composition des mathématiques. LaTeX est l'outil de référence pour les documents techniques et la présentation des mathématiques, et il est gratuit.\n",
    "\n",
    "\n",
    "Pour composer une équation en ligne, utilisez :\n",
    "```\n",
    "The term of interest in this case is $\\exp(-2x) \\sin(3 x^{4})$.\n",
    "```\n",
    "ce qui apparaîtra comme :\n",
    "\n",
    "'The term of interest in this case is $\\exp(-2x) \\sin(3 x^{4})$.'\n",
    "\n",
    "Pour une équation affichée, à partir de :\n",
    "```\n",
    "We wish to evaluate\n",
    "\n",
    "$$\n",
    "f(x) = \\beta x^{3} \\int_{0}^{2} g(x) \\, dx\n",
    "$$\n",
    "\n",
    "when $\\beta = 4$.\n",
    "```\n",
    "nous obtenons :\n",
    "\n",
    "'We wish to evaluate\n",
    "\n",
    "$$\n",
    "f(x) = \\beta x^{3} \\int_{0}^{2} g(x) \\, dx\n",
    "$$\n",
    "\n",
    "when $\\beta = 4$.'\n",
    "\n"
   ]
  },
  {
   "cell_type": "markdown",
   "metadata": {},
   "source": []
  }
 ],
 "metadata": {
  "kernelspec": {
   "display_name": "Python 3",
   "language": "python",
   "name": "python3"
  },
  "language_info": {
   "codemirror_mode": {
    "name": "ipython",
    "version": 3
   },
   "file_extension": ".py",
   "mimetype": "text/x-python",
   "name": "python",
   "nbconvert_exporter": "python",
   "pygments_lexer": "ipython3",
   "version": "3.12.0"
  }
 },
 "nbformat": 4,
 "nbformat_minor": 1
}
